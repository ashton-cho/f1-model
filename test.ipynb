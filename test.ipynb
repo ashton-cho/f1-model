{
 "cells": [
  {
   "cell_type": "code",
   "execution_count": 1,
   "id": "0ee2f519",
   "metadata": {},
   "outputs": [],
   "source": [
    "import pickle\n",
    "import pandas as pd\n",
    "import numpy as np\n",
    "from train import (\n",
    "    run_preprocessing_pipeline,\n",
    "    make_sector_to_lap_sequences,\n",
    "    split_features,\n",
    "    predict,\n",
    ")\n",
    "from sklearn.metrics import confusion_matrix, classification_report"
   ]
  },
  {
   "cell_type": "code",
   "execution_count": 19,
   "id": "7cf340ca",
   "metadata": {},
   "outputs": [],
   "source": [
    "data_path = \"data/f1_sector_data.pkl\"\n",
    "\n",
    "base_numeric_cols = [\n",
    "    'LapNumber', 'SectorTime', 'TyreLife',\n",
    "    'AirTemp', 'Humidity', 'Pressure', 'TrackTemp',\n",
    "    'WindDirection', 'WindSpeed'\n",
    "]\n",
    "telemetry_numeric_cols = [\n",
    "    'LapNumber', 'SectorTime', 'TyreLife', 'Speed_P10',\n",
    "    'Throttle_Median', 'Throttle_ZeroPct', \n",
    "    'Gear_Range', 'DRS_ActivePct', 'TrackStatus_Mean',\n",
    "    'AirTemp', 'Humidity', 'Pressure', 'TrackTemp',\n",
    "    'WindDirection', 'WindSpeed'\n",
    "]\n",
    "base_categorical_cols = ['EventName', 'Team', 'Compound', 'Stint']\n",
    "telemetry_categorical_cols = base_categorical_cols + ['TrackStatus_Mode']"
   ]
  },
  {
   "cell_type": "code",
   "execution_count": 20,
   "id": "c194c677",
   "metadata": {},
   "outputs": [],
   "source": [
    "model_paths = {\n",
    "    \"base_rnn\":  \"models/rnn/model_base.pkl\",\n",
    "    \"tel_rnn\":   \"models/rnn/model_telemetry.pkl\",\n",
    "    \"base_gru\":  \"models/gru/model_base.pkl\",\n",
    "    \"tel_gru\":   \"models/gru/model_telemetry.pkl\",\n",
    "    \"base_lstm\": \"models/lstm/model_base.pkl\",\n",
    "    \"tel_lstm\":  \"models/lstm/model_telemetry.pkl\",\n",
    "}\n",
    "\n",
    "models = {}\n",
    "for name, path in model_paths.items():\n",
    "    with open(path, \"rb\") as f:\n",
    "        models[name] = pickle.load(f)\n"
   ]
  },
  {
   "cell_type": "markdown",
   "id": "479a40d8",
   "metadata": {},
   "source": [
    "## Base"
   ]
  },
  {
   "cell_type": "code",
   "execution_count": 21,
   "id": "a2ff2d80",
   "metadata": {},
   "outputs": [],
   "source": [
    "features_to_keep = base_numeric_cols + base_categorical_cols + ['Year', 'Driver', 'SectorNumber', 'LapsTilPit']"
   ]
  },
  {
   "cell_type": "code",
   "execution_count": 22,
   "id": "87cb6a73",
   "metadata": {},
   "outputs": [],
   "source": [
    "train_df, val_df, test_df, label_col, scaler_dict, n_classes, encoders = run_preprocessing_pipeline(\n",
    "    filepath=data_path,\n",
    "    features_to_keep=features_to_keep,\n",
    "    numeric_cols=base_numeric_cols,\n",
    "    categorical_cols=base_categorical_cols,\n",
    "    laps_label_window=5\n",
    ")"
   ]
  },
  {
   "cell_type": "code",
   "execution_count": 23,
   "id": "5b20fde7",
   "metadata": {},
   "outputs": [],
   "source": [
    "feature_cols = base_categorical_cols + base_numeric_cols\n",
    "window_size = 15\n",
    "X_test, y_test = make_sector_to_lap_sequences(test_df, feature_cols, label_col, window_size)"
   ]
  },
  {
   "cell_type": "code",
   "execution_count": 24,
   "id": "826a96ec",
   "metadata": {},
   "outputs": [],
   "source": [
    "cat_idx = [feature_cols.index(c) for c in base_categorical_cols]\n",
    "num_idx = [feature_cols.index(n) for n in base_numeric_cols]\n",
    "X_test_cat, X_test_num = split_features(X_test, cat_idx, num_idx)"
   ]
  },
  {
   "cell_type": "code",
   "execution_count": 25,
   "id": "31820d06",
   "metadata": {},
   "outputs": [],
   "source": [
    "# Only include 'base' models\n",
    "base_model_keys = [k for k in models.keys() if 'base' in k]\n",
    "\n",
    "base_predictions = {}\n",
    "for name in base_model_keys:\n",
    "    y_prob, y_pred = predict(models[name], X_test_num, X_test_cat)\n",
    "    base_predictions[name] = {\n",
    "        \"y_prob\": y_prob,\n",
    "        \"y_pred\": y_pred\n",
    "    }"
   ]
  },
  {
   "cell_type": "code",
   "execution_count": 27,
   "id": "3cfa6898",
   "metadata": {},
   "outputs": [
    {
     "name": "stdout",
     "output_type": "stream",
     "text": [
      "\n",
      "=== Results for base_rnn ===\n",
      "\n",
      "Confusion Matrix:\n",
      "[[4245 2224]\n",
      " [ 932 1682]]\n",
      "\n",
      "Classification Report:\n",
      "              precision    recall  f1-score   support\n",
      "\n",
      "           0       0.82      0.66      0.73      6469\n",
      "           1       0.43      0.64      0.52      2614\n",
      "\n",
      "    accuracy                           0.65      9083\n",
      "   macro avg       0.63      0.65      0.62      9083\n",
      "weighted avg       0.71      0.65      0.67      9083\n",
      "\n",
      "\n",
      "=== Results for base_gru ===\n",
      "\n",
      "Confusion Matrix:\n",
      "[[4223 2246]\n",
      " [ 932 1682]]\n",
      "\n",
      "Classification Report:\n",
      "              precision    recall  f1-score   support\n",
      "\n",
      "           0       0.82      0.65      0.73      6469\n",
      "           1       0.43      0.64      0.51      2614\n",
      "\n",
      "    accuracy                           0.65      9083\n",
      "   macro avg       0.62      0.65      0.62      9083\n",
      "weighted avg       0.71      0.65      0.67      9083\n",
      "\n",
      "\n",
      "=== Results for base_lstm ===\n",
      "\n",
      "Confusion Matrix:\n",
      "[[4191 2278]\n",
      " [ 839 1775]]\n",
      "\n",
      "Classification Report:\n",
      "              precision    recall  f1-score   support\n",
      "\n",
      "           0       0.83      0.65      0.73      6469\n",
      "           1       0.44      0.68      0.53      2614\n",
      "\n",
      "    accuracy                           0.66      9083\n",
      "   macro avg       0.64      0.66      0.63      9083\n",
      "weighted avg       0.72      0.66      0.67      9083\n",
      "\n"
     ]
    }
   ],
   "source": [
    "for name, preds in base_predictions.items():\n",
    "    y_pred = preds[\"y_pred\"]\n",
    "    print(f\"\\n=== Results for {name} ===\\n\")\n",
    "    cm = confusion_matrix(y_test, y_pred)\n",
    "    cr = classification_report(y_test, y_pred, digits=2)\n",
    "    print(\"Confusion Matrix:\")\n",
    "    print(cm)\n",
    "    print(\"\\nClassification Report:\")\n",
    "    print(cr)"
   ]
  },
  {
   "cell_type": "markdown",
   "id": "b73a13cc",
   "metadata": {},
   "source": [
    "## Telemetry"
   ]
  },
  {
   "cell_type": "code",
   "execution_count": 28,
   "id": "7dd8201b",
   "metadata": {},
   "outputs": [],
   "source": [
    "features_to_keep = telemetry_numeric_cols + telemetry_categorical_cols + ['Year', 'Driver', 'SectorNumber', 'LapsTilPit']"
   ]
  },
  {
   "cell_type": "code",
   "execution_count": 29,
   "id": "1cfbf03f",
   "metadata": {},
   "outputs": [],
   "source": [
    "train_df, val_df, test_df, label_col, scaler_dict, n_classes, encoders = run_preprocessing_pipeline(\n",
    "    filepath=data_path,\n",
    "    features_to_keep=features_to_keep,\n",
    "    numeric_cols=telemetry_numeric_cols,\n",
    "    categorical_cols=telemetry_categorical_cols,\n",
    "    laps_label_window=5\n",
    ")"
   ]
  },
  {
   "cell_type": "code",
   "execution_count": 30,
   "id": "e43a53d9",
   "metadata": {},
   "outputs": [],
   "source": [
    "feature_cols = telemetry_categorical_cols + telemetry_numeric_cols\n",
    "window_size = 15\n",
    "X_test, y_test = make_sector_to_lap_sequences(test_df, feature_cols, label_col, window_size)"
   ]
  },
  {
   "cell_type": "code",
   "execution_count": 31,
   "id": "21dbb201",
   "metadata": {},
   "outputs": [],
   "source": [
    "cat_idx = [feature_cols.index(c) for c in telemetry_categorical_cols]\n",
    "num_idx = [feature_cols.index(n) for n in telemetry_numeric_cols]\n",
    "X_test_cat, X_test_num = split_features(X_test, cat_idx, num_idx)"
   ]
  },
  {
   "cell_type": "code",
   "execution_count": 32,
   "id": "e1e0e673",
   "metadata": {},
   "outputs": [],
   "source": [
    "# Only include 'base' models\n",
    "tel_model_keys = [k for k in models.keys() if 'tel' in k]\n",
    "\n",
    "tel_predictions = {}\n",
    "for name in tel_model_keys:\n",
    "    y_prob, y_pred = predict(models[name], X_test_num, X_test_cat)\n",
    "    tel_predictions[name] = {\n",
    "        \"y_prob\": y_prob,\n",
    "        \"y_pred\": y_pred\n",
    "    }"
   ]
  },
  {
   "cell_type": "code",
   "execution_count": 33,
   "id": "9ac4017a",
   "metadata": {},
   "outputs": [
    {
     "name": "stdout",
     "output_type": "stream",
     "text": [
      "\n",
      "=== Results for tel_rnn ===\n",
      "\n",
      "Confusion Matrix:\n",
      "[[4326 2143]\n",
      " [ 803 1811]]\n",
      "\n",
      "Classification Report:\n",
      "              precision    recall  f1-score   support\n",
      "\n",
      "           0       0.84      0.67      0.75      6469\n",
      "           1       0.46      0.69      0.55      2614\n",
      "\n",
      "    accuracy                           0.68      9083\n",
      "   macro avg       0.65      0.68      0.65      9083\n",
      "weighted avg       0.73      0.68      0.69      9083\n",
      "\n",
      "\n",
      "=== Results for tel_gru ===\n",
      "\n",
      "Confusion Matrix:\n",
      "[[4715 1754]\n",
      " [ 971 1643]]\n",
      "\n",
      "Classification Report:\n",
      "              precision    recall  f1-score   support\n",
      "\n",
      "           0       0.83      0.73      0.78      6469\n",
      "           1       0.48      0.63      0.55      2614\n",
      "\n",
      "    accuracy                           0.70      9083\n",
      "   macro avg       0.66      0.68      0.66      9083\n",
      "weighted avg       0.73      0.70      0.71      9083\n",
      "\n",
      "\n",
      "=== Results for tel_lstm ===\n",
      "\n",
      "Confusion Matrix:\n",
      "[[4839 1630]\n",
      " [1087 1527]]\n",
      "\n",
      "Classification Report:\n",
      "              precision    recall  f1-score   support\n",
      "\n",
      "           0       0.82      0.75      0.78      6469\n",
      "           1       0.48      0.58      0.53      2614\n",
      "\n",
      "    accuracy                           0.70      9083\n",
      "   macro avg       0.65      0.67      0.65      9083\n",
      "weighted avg       0.72      0.70      0.71      9083\n",
      "\n"
     ]
    }
   ],
   "source": [
    "for name, preds in tel_predictions.items():\n",
    "    y_pred = preds[\"y_pred\"]\n",
    "    print(f\"\\n=== Results for {name} ===\\n\")\n",
    "    cm = confusion_matrix(y_test, y_pred)\n",
    "    cr = classification_report(y_test, y_pred, digits=2)\n",
    "    print(\"Confusion Matrix:\")\n",
    "    print(cm)\n",
    "    print(\"\\nClassification Report:\")\n",
    "    print(cr)"
   ]
  },
  {
   "cell_type": "markdown",
   "id": "fa3e0ddf",
   "metadata": {},
   "source": [
    "## Test Data"
   ]
  },
  {
   "cell_type": "code",
   "execution_count": 24,
   "id": "f88ba7b5",
   "metadata": {},
   "outputs": [],
   "source": [
    "import fastf1\n",
    "from datetime import datetime, timezone\n",
    "import json\n",
    "import os\n",
    "\n",
    "fastf1.Cache.enable_cache('./cache')"
   ]
  },
  {
   "cell_type": "code",
   "execution_count": 25,
   "id": "fe7e21a2",
   "metadata": {},
   "outputs": [
    {
     "data": {
      "text/html": [
       "<div>\n",
       "<style scoped>\n",
       "    .dataframe tbody tr th:only-of-type {\n",
       "        vertical-align: middle;\n",
       "    }\n",
       "\n",
       "    .dataframe tbody tr th {\n",
       "        vertical-align: top;\n",
       "    }\n",
       "\n",
       "    .dataframe thead th {\n",
       "        text-align: right;\n",
       "    }\n",
       "</style>\n",
       "<table border=\"1\" class=\"dataframe\">\n",
       "  <thead>\n",
       "    <tr style=\"text-align: right;\">\n",
       "      <th></th>\n",
       "      <th>EventName</th>\n",
       "      <th>EventDate</th>\n",
       "    </tr>\n",
       "  </thead>\n",
       "  <tbody>\n",
       "    <tr>\n",
       "      <th>1</th>\n",
       "      <td>Australian Grand Prix</td>\n",
       "      <td>2025-03-16</td>\n",
       "    </tr>\n",
       "    <tr>\n",
       "      <th>2</th>\n",
       "      <td>Chinese Grand Prix</td>\n",
       "      <td>2025-03-23</td>\n",
       "    </tr>\n",
       "    <tr>\n",
       "      <th>3</th>\n",
       "      <td>Japanese Grand Prix</td>\n",
       "      <td>2025-04-06</td>\n",
       "    </tr>\n",
       "    <tr>\n",
       "      <th>4</th>\n",
       "      <td>Bahrain Grand Prix</td>\n",
       "      <td>2025-04-13</td>\n",
       "    </tr>\n",
       "    <tr>\n",
       "      <th>5</th>\n",
       "      <td>Saudi Arabian Grand Prix</td>\n",
       "      <td>2025-04-20</td>\n",
       "    </tr>\n",
       "    <tr>\n",
       "      <th>6</th>\n",
       "      <td>Miami Grand Prix</td>\n",
       "      <td>2025-05-04</td>\n",
       "    </tr>\n",
       "    <tr>\n",
       "      <th>7</th>\n",
       "      <td>Emilia Romagna Grand Prix</td>\n",
       "      <td>2025-05-18</td>\n",
       "    </tr>\n",
       "    <tr>\n",
       "      <th>8</th>\n",
       "      <td>Monaco Grand Prix</td>\n",
       "      <td>2025-05-25</td>\n",
       "    </tr>\n",
       "    <tr>\n",
       "      <th>9</th>\n",
       "      <td>Spanish Grand Prix</td>\n",
       "      <td>2025-06-01</td>\n",
       "    </tr>\n",
       "    <tr>\n",
       "      <th>10</th>\n",
       "      <td>Canadian Grand Prix</td>\n",
       "      <td>2025-06-15</td>\n",
       "    </tr>\n",
       "    <tr>\n",
       "      <th>11</th>\n",
       "      <td>Austrian Grand Prix</td>\n",
       "      <td>2025-06-29</td>\n",
       "    </tr>\n",
       "    <tr>\n",
       "      <th>12</th>\n",
       "      <td>British Grand Prix</td>\n",
       "      <td>2025-07-06</td>\n",
       "    </tr>\n",
       "  </tbody>\n",
       "</table>\n",
       "</div>"
      ],
      "text/plain": [
       "                    EventName  EventDate\n",
       "1       Australian Grand Prix 2025-03-16\n",
       "2          Chinese Grand Prix 2025-03-23\n",
       "3         Japanese Grand Prix 2025-04-06\n",
       "4          Bahrain Grand Prix 2025-04-13\n",
       "5    Saudi Arabian Grand Prix 2025-04-20\n",
       "6            Miami Grand Prix 2025-05-04\n",
       "7   Emilia Romagna Grand Prix 2025-05-18\n",
       "8           Monaco Grand Prix 2025-05-25\n",
       "9          Spanish Grand Prix 2025-06-01\n",
       "10        Canadian Grand Prix 2025-06-15\n",
       "11        Austrian Grand Prix 2025-06-29\n",
       "12         British Grand Prix 2025-07-06"
      ]
     },
     "execution_count": 25,
     "metadata": {},
     "output_type": "execute_result"
    }
   ],
   "source": [
    "schedule = fastf1.get_event_schedule(2025)\n",
    "today = datetime.now(timezone.utc).date()\n",
    "\n",
    "filtered = schedule[\n",
    "    schedule['EventName'].notnull() &\n",
    "    schedule['EventName'].str.contains('Grand Prix') &\n",
    "    (schedule['Session5DateUtc'].dt.date < today)\n",
    "]\n",
    "\n",
    "filtered[['EventName', 'EventDate']]"
   ]
  },
  {
   "cell_type": "code",
   "execution_count": 26,
   "id": "e33e8b68",
   "metadata": {},
   "outputs": [
    {
     "name": "stderr",
     "output_type": "stream",
     "text": [
      "core           INFO \tLoading data for Bahrain Grand Prix - Race [v3.5.3]\n",
      "req            INFO \tUsing cached data for session_info\n",
      "req            INFO \tUsing cached data for driver_info\n",
      "req            INFO \tUsing cached data for session_status_data\n",
      "req            INFO \tUsing cached data for lap_count\n",
      "req            INFO \tUsing cached data for track_status_data\n",
      "req            INFO \tUsing cached data for _extended_timing_data\n",
      "req            INFO \tUsing cached data for timing_app_data\n",
      "core           INFO \tProcessing timing data...\n",
      "core        WARNING \tDriver 63: Lap timing integrity check failed for 3 lap(s)\n",
      "req            INFO \tUsing cached data for car_data\n",
      "req            INFO \tUsing cached data for position_data\n",
      "req            INFO \tUsing cached data for weather_data\n",
      "req            INFO \tUsing cached data for race_control_messages\n",
      "core           INFO \tFinished loading data for 20 drivers: ['81', '63', '4', '16', '44', '1', '10', '31', '22', '87', '12', '23', '6', '7', '14', '30', '18', '5', '55', '27']\n"
     ]
    }
   ],
   "source": [
    "year = 2025\n",
    "event_name = 'Bahrain Grand Prix'\n",
    "\n",
    "session = fastf1.get_session(year, event_name, 'R')\n",
    "session.load(telemetry=True, weather=True)\n",
    "\n",
    "laps_df = session.laps.copy()\n",
    "laps_df['Year'] = year\n",
    "laps_df['EventName'] = event_name\n",
    "\n",
    "weather_df = session.weather_data.copy()\n",
    "weather_df['Year'] = year\n",
    "weather_df['EventName'] = event_name\n",
    "\n",
    "telemetry_dfs = []\n",
    "for idx, lap in session.laps.iterlaps():\n",
    "    tel = lap.get_car_data().add_track_status()\n",
    "    tel['Year'] = year\n",
    "    tel['EventName'] = event_name\n",
    "    tel['Driver'] = lap.Driver\n",
    "    tel['LapNumber'] = lap.LapNumber\n",
    "    telemetry_dfs.append(tel)\n",
    "if telemetry_dfs:\n",
    "    telemetry_df = pd.concat(telemetry_dfs, ignore_index=True)"
   ]
  },
  {
   "cell_type": "code",
   "execution_count": 27,
   "id": "35f81c18",
   "metadata": {},
   "outputs": [
    {
     "name": "stdout",
     "output_type": "stream",
     "text": [
      "(1128, 33)\n",
      "(158, 10)\n",
      "(425181, 15)\n"
     ]
    }
   ],
   "source": [
    "print(laps_df.shape)\n",
    "print(weather_df.shape)\n",
    "print(telemetry_df.shape)"
   ]
  },
  {
   "cell_type": "code",
   "execution_count": 28,
   "id": "c84d348e",
   "metadata": {},
   "outputs": [
    {
     "data": {
      "text/plain": [
       "Index(['Time', 'Driver', 'DriverNumber', 'LapTime', 'LapNumber', 'Stint',\n",
       "       'PitOutTime', 'PitInTime', 'Sector1Time', 'Sector2Time', 'Sector3Time',\n",
       "       'Sector1SessionTime', 'Sector2SessionTime', 'Sector3SessionTime',\n",
       "       'SpeedI1', 'SpeedI2', 'SpeedFL', 'SpeedST', 'IsPersonalBest',\n",
       "       'Compound', 'TyreLife', 'FreshTyre', 'Team', 'LapStartTime',\n",
       "       'LapStartDate', 'TrackStatus', 'Position', 'Deleted', 'DeletedReason',\n",
       "       'FastF1Generated', 'IsAccurate', 'Year', 'EventName'],\n",
       "      dtype='object')"
      ]
     },
     "execution_count": 28,
     "metadata": {},
     "output_type": "execute_result"
    }
   ],
   "source": [
    "laps_df.columns"
   ]
  },
  {
   "cell_type": "code",
   "execution_count": 29,
   "id": "6a39b902",
   "metadata": {},
   "outputs": [],
   "source": [
    "laps_df = laps_df[[\n",
    "    'Year', 'EventName', 'Team', 'Driver', \n",
    "    'Stint', 'LapNumber', 'LapStartTime',\n",
    "    'Sector1Time', 'Sector2Time', 'Sector3Time',\n",
    "    'Sector1SessionTime', 'Sector2SessionTime', 'Sector3SessionTime',\n",
    "    'Compound', 'TyreLife', 'FreshTyre'\n",
    "]]"
   ]
  },
  {
   "cell_type": "code",
   "execution_count": 30,
   "id": "a3eb199a",
   "metadata": {},
   "outputs": [
    {
     "data": {
      "text/plain": [
       "Index(['Date', 'RPM', 'Speed', 'nGear', 'Throttle', 'Brake', 'DRS', 'Source',\n",
       "       'Time', 'SessionTime', 'TrackStatus', 'Year', 'EventName', 'Driver',\n",
       "       'LapNumber'],\n",
       "      dtype='object')"
      ]
     },
     "execution_count": 30,
     "metadata": {},
     "output_type": "execute_result"
    }
   ],
   "source": [
    "telemetry_df.columns"
   ]
  },
  {
   "cell_type": "code",
   "execution_count": 31,
   "id": "294b69fb",
   "metadata": {},
   "outputs": [],
   "source": [
    "telemetry_df = telemetry_df[[\n",
    "    'Year', 'EventName', 'Driver', 'LapNumber', 'SessionTime', \n",
    "    'RPM', 'Speed', 'nGear', 'Throttle', 'Brake', 'DRS', 'TrackStatus'\n",
    "]]"
   ]
  },
  {
   "cell_type": "code",
   "execution_count": 32,
   "id": "b9573fc0",
   "metadata": {},
   "outputs": [
    {
     "data": {
      "text/plain": [
       "Index(['Time', 'AirTemp', 'Humidity', 'Pressure', 'Rainfall', 'TrackTemp',\n",
       "       'WindDirection', 'WindSpeed', 'Year', 'EventName'],\n",
       "      dtype='object')"
      ]
     },
     "execution_count": 32,
     "metadata": {},
     "output_type": "execute_result"
    }
   ],
   "source": [
    "weather_df.columns"
   ]
  },
  {
   "cell_type": "code",
   "execution_count": 33,
   "id": "474936f2",
   "metadata": {},
   "outputs": [],
   "source": [
    "weather_df.rename(columns={'Time': 'SessionTime'}, inplace=True)"
   ]
  },
  {
   "cell_type": "code",
   "execution_count": 34,
   "id": "a27cedfa",
   "metadata": {},
   "outputs": [],
   "source": [
    "weather_df = weather_df[[\n",
    "    'Year', 'EventName', 'SessionTime',\n",
    "    'AirTemp', 'Humidity', 'Pressure', 'Rainfall',\n",
    "    'TrackTemp', 'WindDirection', 'WindSpeed'\n",
    "]]"
   ]
  },
  {
   "cell_type": "code",
   "execution_count": 35,
   "id": "15aa3b06",
   "metadata": {},
   "outputs": [],
   "source": [
    "folder = f\"data/{event_name} {year}/\"\n",
    "os.makedirs(folder, exist_ok=True)"
   ]
  },
  {
   "cell_type": "code",
   "execution_count": 36,
   "id": "0a3f16b3",
   "metadata": {},
   "outputs": [],
   "source": [
    "dataframes = {\n",
    "    \"laps\": laps_df,\n",
    "    \"weather\": weather_df,\n",
    "    \"telemetry\": telemetry_df\n",
    "}\n",
    "\n",
    "for name, df in dataframes.items():\n",
    "    with open(os.path.join(folder, f\"{name}.json\"), \"w\") as f:\n",
    "        json.dump(df.to_dict(orient=\"records\"), f, indent=2, default=str)"
   ]
  },
  {
   "cell_type": "code",
   "execution_count": 87,
   "id": "4858d094",
   "metadata": {},
   "outputs": [],
   "source": [
    "with open(os.path.join(folder, \"laps.json\"), \"r\") as f:\n",
    "    laps_df = pd.DataFrame(json.load(f))\n",
    "\n",
    "with open(os.path.join(folder, \"telemetry.json\"), \"r\") as f:\n",
    "    telemetry_df = pd.DataFrame(json.load(f))\n",
    "\n",
    "with open(os.path.join(folder, \"weather.json\"), \"r\") as f:\n",
    "    weather_df = pd.DataFrame(json.load(f))"
   ]
  },
  {
   "cell_type": "code",
   "execution_count": 38,
   "id": "60a60b8e",
   "metadata": {},
   "outputs": [],
   "source": [
    "def parse_laps_to_sector(laps_df_copy):\n",
    "    # Build per-sector DataFrame\n",
    "    sector_list = []\n",
    "    for sec_num in [1, 2, 3]:\n",
    "        sec_df = laps_df_copy.copy()\n",
    "        sec_df['SectorNumber'] = sec_num\n",
    "        sec_df['SectorTime'] = sec_df[f'Sector{sec_num}Time']\n",
    "        sec_df['SectorSessionTime_Start'] = (\n",
    "            sec_df['LapStartTime'] if sec_num == 1 else sec_df[f'Sector{sec_num-1}SessionTime']\n",
    "        )\n",
    "        sec_df['SectorSessionTime_End'] = sec_df[f'Sector{sec_num}SessionTime']\n",
    "        sector_list.append(sec_df)\n",
    "    per_sector = pd.concat(sector_list, ignore_index=True)\n",
    "\n",
    "    # Build sector interval table\n",
    "    cols_to_copy = [\n",
    "        'Year', 'EventName', 'Team', 'Driver',\n",
    "        'Stint', 'LapNumber', 'SectorNumber',\n",
    "        'Compound', 'TyreLife', 'SectorTime', \n",
    "        'SectorSessionTime_Start', 'SectorSessionTime_End'\n",
    "        ]\n",
    "    sector_intervals = per_sector[cols_to_copy].copy()\n",
    "    return sector_intervals"
   ]
  },
  {
   "cell_type": "code",
   "execution_count": 39,
   "id": "b63426ef",
   "metadata": {},
   "outputs": [],
   "source": [
    "sector_df = parse_laps_to_sector(laps_df)"
   ]
  },
  {
   "cell_type": "code",
   "execution_count": 40,
   "id": "3fbad8d5",
   "metadata": {},
   "outputs": [],
   "source": [
    "with open(os.path.join(folder, \"sector.json\"), \"w\") as f:\n",
    "    json.dump(sector_df.to_dict(orient=\"records\"), f, indent=2, default=str)"
   ]
  },
  {
   "cell_type": "code",
   "execution_count": 41,
   "id": "bc85ca67",
   "metadata": {},
   "outputs": [
    {
     "data": {
      "text/html": [
       "<div>\n",
       "<style scoped>\n",
       "    .dataframe tbody tr th:only-of-type {\n",
       "        vertical-align: middle;\n",
       "    }\n",
       "\n",
       "    .dataframe tbody tr th {\n",
       "        vertical-align: top;\n",
       "    }\n",
       "\n",
       "    .dataframe thead th {\n",
       "        text-align: right;\n",
       "    }\n",
       "</style>\n",
       "<table border=\"1\" class=\"dataframe\">\n",
       "  <thead>\n",
       "    <tr style=\"text-align: right;\">\n",
       "      <th></th>\n",
       "      <th>Year</th>\n",
       "      <th>EventName</th>\n",
       "      <th>Team</th>\n",
       "      <th>Driver</th>\n",
       "      <th>Stint</th>\n",
       "      <th>LapNumber</th>\n",
       "      <th>SectorNumber</th>\n",
       "      <th>Compound</th>\n",
       "      <th>TyreLife</th>\n",
       "      <th>SectorTime</th>\n",
       "      <th>SectorSessionTime_Start</th>\n",
       "      <th>SectorSessionTime_End</th>\n",
       "    </tr>\n",
       "  </thead>\n",
       "  <tbody>\n",
       "    <tr>\n",
       "      <th>0</th>\n",
       "      <td>2025</td>\n",
       "      <td>Bahrain Grand Prix</td>\n",
       "      <td>McLaren</td>\n",
       "      <td>PIA</td>\n",
       "      <td>1.0</td>\n",
       "      <td>1.0</td>\n",
       "      <td>1</td>\n",
       "      <td>SOFT</td>\n",
       "      <td>4.0</td>\n",
       "      <td>NaT</td>\n",
       "      <td>0 days 00:55:34.907000</td>\n",
       "      <td>NaT</td>\n",
       "    </tr>\n",
       "    <tr>\n",
       "      <th>1</th>\n",
       "      <td>2025</td>\n",
       "      <td>Bahrain Grand Prix</td>\n",
       "      <td>McLaren</td>\n",
       "      <td>PIA</td>\n",
       "      <td>1.0</td>\n",
       "      <td>2.0</td>\n",
       "      <td>1</td>\n",
       "      <td>SOFT</td>\n",
       "      <td>5.0</td>\n",
       "      <td>0 days 00:00:31.139000</td>\n",
       "      <td>0 days 00:57:13.827000</td>\n",
       "      <td>0 days 00:57:45.021000</td>\n",
       "    </tr>\n",
       "    <tr>\n",
       "      <th>2</th>\n",
       "      <td>2025</td>\n",
       "      <td>Bahrain Grand Prix</td>\n",
       "      <td>McLaren</td>\n",
       "      <td>PIA</td>\n",
       "      <td>1.0</td>\n",
       "      <td>3.0</td>\n",
       "      <td>1</td>\n",
       "      <td>SOFT</td>\n",
       "      <td>6.0</td>\n",
       "      <td>0 days 00:00:31.306000</td>\n",
       "      <td>0 days 00:58:51.319000</td>\n",
       "      <td>0 days 00:59:22.680000</td>\n",
       "    </tr>\n",
       "    <tr>\n",
       "      <th>3</th>\n",
       "      <td>2025</td>\n",
       "      <td>Bahrain Grand Prix</td>\n",
       "      <td>McLaren</td>\n",
       "      <td>PIA</td>\n",
       "      <td>1.0</td>\n",
       "      <td>4.0</td>\n",
       "      <td>1</td>\n",
       "      <td>SOFT</td>\n",
       "      <td>7.0</td>\n",
       "      <td>0 days 00:00:31.326000</td>\n",
       "      <td>0 days 01:00:29.402000</td>\n",
       "      <td>0 days 01:01:00.783000</td>\n",
       "    </tr>\n",
       "    <tr>\n",
       "      <th>4</th>\n",
       "      <td>2025</td>\n",
       "      <td>Bahrain Grand Prix</td>\n",
       "      <td>McLaren</td>\n",
       "      <td>PIA</td>\n",
       "      <td>1.0</td>\n",
       "      <td>5.0</td>\n",
       "      <td>1</td>\n",
       "      <td>SOFT</td>\n",
       "      <td>8.0</td>\n",
       "      <td>0 days 00:00:31.305000</td>\n",
       "      <td>0 days 01:02:07.535000</td>\n",
       "      <td>0 days 01:02:38.895000</td>\n",
       "    </tr>\n",
       "    <tr>\n",
       "      <th>...</th>\n",
       "      <td>...</td>\n",
       "      <td>...</td>\n",
       "      <td>...</td>\n",
       "      <td>...</td>\n",
       "      <td>...</td>\n",
       "      <td>...</td>\n",
       "      <td>...</td>\n",
       "      <td>...</td>\n",
       "      <td>...</td>\n",
       "      <td>...</td>\n",
       "      <td>...</td>\n",
       "      <td>...</td>\n",
       "    </tr>\n",
       "    <tr>\n",
       "      <th>3379</th>\n",
       "      <td>2025</td>\n",
       "      <td>Bahrain Grand Prix</td>\n",
       "      <td>Kick Sauber</td>\n",
       "      <td>HUL</td>\n",
       "      <td>3.0</td>\n",
       "      <td>53.0</td>\n",
       "      <td>3</td>\n",
       "      <td>MEDIUM</td>\n",
       "      <td>26.0</td>\n",
       "      <td>0 days 00:00:24.184000</td>\n",
       "      <td>0 days 02:25:09.156000</td>\n",
       "      <td>0 days 02:25:33.340000</td>\n",
       "    </tr>\n",
       "    <tr>\n",
       "      <th>3380</th>\n",
       "      <td>2025</td>\n",
       "      <td>Bahrain Grand Prix</td>\n",
       "      <td>Kick Sauber</td>\n",
       "      <td>HUL</td>\n",
       "      <td>3.0</td>\n",
       "      <td>54.0</td>\n",
       "      <td>3</td>\n",
       "      <td>MEDIUM</td>\n",
       "      <td>27.0</td>\n",
       "      <td>0 days 00:00:24.118000</td>\n",
       "      <td>0 days 02:26:47.720000</td>\n",
       "      <td>0 days 02:27:11.838000</td>\n",
       "    </tr>\n",
       "    <tr>\n",
       "      <th>3381</th>\n",
       "      <td>2025</td>\n",
       "      <td>Bahrain Grand Prix</td>\n",
       "      <td>Kick Sauber</td>\n",
       "      <td>HUL</td>\n",
       "      <td>3.0</td>\n",
       "      <td>55.0</td>\n",
       "      <td>3</td>\n",
       "      <td>MEDIUM</td>\n",
       "      <td>28.0</td>\n",
       "      <td>0 days 00:00:24.117000</td>\n",
       "      <td>0 days 02:28:26.145000</td>\n",
       "      <td>0 days 02:28:50.262000</td>\n",
       "    </tr>\n",
       "    <tr>\n",
       "      <th>3382</th>\n",
       "      <td>2025</td>\n",
       "      <td>Bahrain Grand Prix</td>\n",
       "      <td>Kick Sauber</td>\n",
       "      <td>HUL</td>\n",
       "      <td>3.0</td>\n",
       "      <td>56.0</td>\n",
       "      <td>3</td>\n",
       "      <td>MEDIUM</td>\n",
       "      <td>29.0</td>\n",
       "      <td>0 days 00:00:24.393000</td>\n",
       "      <td>0 days 02:30:04.867000</td>\n",
       "      <td>0 days 02:30:29.260000</td>\n",
       "    </tr>\n",
       "    <tr>\n",
       "      <th>3383</th>\n",
       "      <td>2025</td>\n",
       "      <td>Bahrain Grand Prix</td>\n",
       "      <td>Kick Sauber</td>\n",
       "      <td>HUL</td>\n",
       "      <td>3.0</td>\n",
       "      <td>57.0</td>\n",
       "      <td>3</td>\n",
       "      <td>MEDIUM</td>\n",
       "      <td>30.0</td>\n",
       "      <td>0 days 00:00:24.608000</td>\n",
       "      <td>0 days 02:31:43.475000</td>\n",
       "      <td>0 days 02:32:08.083000</td>\n",
       "    </tr>\n",
       "  </tbody>\n",
       "</table>\n",
       "<p>3384 rows × 12 columns</p>\n",
       "</div>"
      ],
      "text/plain": [
       "      Year           EventName         Team Driver  Stint  LapNumber  \\\n",
       "0     2025  Bahrain Grand Prix      McLaren    PIA    1.0        1.0   \n",
       "1     2025  Bahrain Grand Prix      McLaren    PIA    1.0        2.0   \n",
       "2     2025  Bahrain Grand Prix      McLaren    PIA    1.0        3.0   \n",
       "3     2025  Bahrain Grand Prix      McLaren    PIA    1.0        4.0   \n",
       "4     2025  Bahrain Grand Prix      McLaren    PIA    1.0        5.0   \n",
       "...    ...                 ...          ...    ...    ...        ...   \n",
       "3379  2025  Bahrain Grand Prix  Kick Sauber    HUL    3.0       53.0   \n",
       "3380  2025  Bahrain Grand Prix  Kick Sauber    HUL    3.0       54.0   \n",
       "3381  2025  Bahrain Grand Prix  Kick Sauber    HUL    3.0       55.0   \n",
       "3382  2025  Bahrain Grand Prix  Kick Sauber    HUL    3.0       56.0   \n",
       "3383  2025  Bahrain Grand Prix  Kick Sauber    HUL    3.0       57.0   \n",
       "\n",
       "      SectorNumber Compound  TyreLife              SectorTime  \\\n",
       "0                1     SOFT       4.0                     NaT   \n",
       "1                1     SOFT       5.0  0 days 00:00:31.139000   \n",
       "2                1     SOFT       6.0  0 days 00:00:31.306000   \n",
       "3                1     SOFT       7.0  0 days 00:00:31.326000   \n",
       "4                1     SOFT       8.0  0 days 00:00:31.305000   \n",
       "...            ...      ...       ...                     ...   \n",
       "3379             3   MEDIUM      26.0  0 days 00:00:24.184000   \n",
       "3380             3   MEDIUM      27.0  0 days 00:00:24.118000   \n",
       "3381             3   MEDIUM      28.0  0 days 00:00:24.117000   \n",
       "3382             3   MEDIUM      29.0  0 days 00:00:24.393000   \n",
       "3383             3   MEDIUM      30.0  0 days 00:00:24.608000   \n",
       "\n",
       "     SectorSessionTime_Start   SectorSessionTime_End  \n",
       "0     0 days 00:55:34.907000                     NaT  \n",
       "1     0 days 00:57:13.827000  0 days 00:57:45.021000  \n",
       "2     0 days 00:58:51.319000  0 days 00:59:22.680000  \n",
       "3     0 days 01:00:29.402000  0 days 01:01:00.783000  \n",
       "4     0 days 01:02:07.535000  0 days 01:02:38.895000  \n",
       "...                      ...                     ...  \n",
       "3379  0 days 02:25:09.156000  0 days 02:25:33.340000  \n",
       "3380  0 days 02:26:47.720000  0 days 02:27:11.838000  \n",
       "3381  0 days 02:28:26.145000  0 days 02:28:50.262000  \n",
       "3382  0 days 02:30:04.867000  0 days 02:30:29.260000  \n",
       "3383  0 days 02:31:43.475000  0 days 02:32:08.083000  \n",
       "\n",
       "[3384 rows x 12 columns]"
      ]
     },
     "execution_count": 41,
     "metadata": {},
     "output_type": "execute_result"
    }
   ],
   "source": [
    "sector_df"
   ]
  },
  {
   "cell_type": "code",
   "execution_count": 42,
   "id": "77427ee0",
   "metadata": {},
   "outputs": [
    {
     "data": {
      "text/plain": [
       "Index(['Year', 'EventName', 'Team', 'Driver', 'Stint', 'LapNumber',\n",
       "       'SectorNumber', 'Compound', 'TyreLife', 'SectorTime',\n",
       "       'SectorSessionTime_Start', 'SectorSessionTime_End'],\n",
       "      dtype='object')"
      ]
     },
     "execution_count": 42,
     "metadata": {},
     "output_type": "execute_result"
    }
   ],
   "source": [
    "sector_df.columns"
   ]
  },
  {
   "cell_type": "code",
   "execution_count": 43,
   "id": "93997747",
   "metadata": {},
   "outputs": [
    {
     "data": {
      "text/plain": [
       "Index(['Year', 'EventName', 'Driver', 'LapNumber', 'SessionTime', 'RPM',\n",
       "       'Speed', 'nGear', 'Throttle', 'Brake', 'DRS', 'TrackStatus'],\n",
       "      dtype='object')"
      ]
     },
     "execution_count": 43,
     "metadata": {},
     "output_type": "execute_result"
    }
   ],
   "source": [
    "telemetry_df.columns"
   ]
  },
  {
   "cell_type": "code",
   "execution_count": 44,
   "id": "e3abec34",
   "metadata": {},
   "outputs": [
    {
     "data": {
      "text/plain": [
       "Index(['Year', 'EventName', 'SessionTime', 'AirTemp', 'Humidity', 'Pressure',\n",
       "       'Rainfall', 'TrackTemp', 'WindDirection', 'WindSpeed'],\n",
       "      dtype='object')"
      ]
     },
     "execution_count": 44,
     "metadata": {},
     "output_type": "execute_result"
    }
   ],
   "source": [
    "weather_df.columns"
   ]
  },
  {
   "cell_type": "code",
   "execution_count": 57,
   "id": "27de5b73",
   "metadata": {},
   "outputs": [
    {
     "data": {
      "text/plain": [
       "count      60.000000\n",
       "mean     3872.352667\n",
       "std        32.265284\n",
       "min      3825.578000\n",
       "25%      3841.768750\n",
       "50%      3867.186000\n",
       "75%      3905.382250\n",
       "max      3940.445000\n",
       "Name: SectorSessionTime_Start, dtype: float64"
      ]
     },
     "execution_count": 57,
     "metadata": {},
     "output_type": "execute_result"
    }
   ],
   "source": [
    "pd.to_timedelta(sector_df[sector_df['LapNumber']==6]['SectorSessionTime_Start']).dt.total_seconds().describe()"
   ]
  },
  {
   "cell_type": "code",
   "execution_count": 58,
   "id": "56d53206",
   "metadata": {},
   "outputs": [
    {
     "data": {
      "text/plain": [
       "count    3320.000000\n",
       "mean     6186.749305\n",
       "std      1664.096296\n",
       "min      3334.907000\n",
       "25%      4745.744750\n",
       "50%      6131.000500\n",
       "75%      7634.954500\n",
       "max      9116.986000\n",
       "Name: SectorSessionTime_Start, dtype: float64"
      ]
     },
     "execution_count": 58,
     "metadata": {},
     "output_type": "execute_result"
    }
   ],
   "source": [
    "pd.to_timedelta(sector_df['SectorSessionTime_Start']).dt.total_seconds().describe()"
   ]
  },
  {
   "cell_type": "code",
   "execution_count": 61,
   "id": "196130e5",
   "metadata": {},
   "outputs": [
    {
     "data": {
      "text/plain": [
       "SectorSessionTime_Start\n",
       "NaT                       64\n",
       "0 days 00:55:34.907000    20\n",
       "0 days 01:14:51.773000     1\n",
       "0 days 00:58:27.364000     1\n",
       "0 days 01:00:05.407000     1\n",
       "                          ..\n",
       "0 days 02:22:17.013000     1\n",
       "0 days 02:23:55.038000     1\n",
       "0 days 02:25:33.298000     1\n",
       "0 days 02:27:11.796000     1\n",
       "0 days 02:31:43.475000     1\n",
       "Name: count, Length: 3302, dtype: int64"
      ]
     },
     "execution_count": 61,
     "metadata": {},
     "output_type": "execute_result"
    }
   ],
   "source": [
    "sector_df['SectorSessionTime_Start'].value_counts()"
   ]
  },
  {
   "cell_type": "code",
   "execution_count": 66,
   "id": "517331c1",
   "metadata": {},
   "outputs": [
    {
     "data": {
      "text/plain": [
       "SectorSessionTime_End\n",
       "NaT                       84\n",
       "0 days 01:16:54.882000     1\n",
       "0 days 01:00:29.457000     1\n",
       "0 days 01:02:07.590000     1\n",
       "0 days 01:03:45.633000     1\n",
       "                          ..\n",
       "0 days 01:26:42.488000     1\n",
       "0 days 01:28:20.087000     1\n",
       "0 days 01:29:57.736000     1\n",
       "0 days 01:31:34.945000     1\n",
       "0 days 02:32:08.083000     1\n",
       "Name: count, Length: 3301, dtype: int64"
      ]
     },
     "execution_count": 66,
     "metadata": {},
     "output_type": "execute_result"
    }
   ],
   "source": [
    "sector_df['SectorSessionTime_End'].value_counts()"
   ]
  },
  {
   "cell_type": "code",
   "execution_count": 157,
   "id": "a35eca2c",
   "metadata": {},
   "outputs": [],
   "source": [
    "with open(os.path.join(folder, \"sector.json\"), \"r\") as f:\n",
    "    sector_df = pd.DataFrame(json.load(f))"
   ]
  },
  {
   "cell_type": "code",
   "execution_count": 158,
   "id": "dd7dfc74",
   "metadata": {},
   "outputs": [
    {
     "data": {
      "text/plain": [
       "Year                       0\n",
       "EventName                  0\n",
       "Team                       0\n",
       "Driver                     0\n",
       "Stint                      0\n",
       "LapNumber                  0\n",
       "SectorNumber               0\n",
       "Compound                   0\n",
       "TyreLife                   0\n",
       "SectorTime                 0\n",
       "SectorSessionTime_Start    0\n",
       "SectorSessionTime_End      0\n",
       "dtype: int64"
      ]
     },
     "execution_count": 158,
     "metadata": {},
     "output_type": "execute_result"
    }
   ],
   "source": [
    "sector_df.isna().sum()"
   ]
  },
  {
   "cell_type": "code",
   "execution_count": 159,
   "id": "9abf81ae",
   "metadata": {},
   "outputs": [
    {
     "data": {
      "text/plain": [
       "SectorSessionTime_End\n",
       "NaT                       84\n",
       "0 days 01:16:54.882000     1\n",
       "0 days 01:00:29.457000     1\n",
       "0 days 01:02:07.590000     1\n",
       "0 days 01:03:45.633000     1\n",
       "                          ..\n",
       "0 days 01:26:42.488000     1\n",
       "0 days 01:28:20.087000     1\n",
       "0 days 01:29:57.736000     1\n",
       "0 days 01:31:34.945000     1\n",
       "0 days 02:32:08.083000     1\n",
       "Name: count, Length: 3301, dtype: int64"
      ]
     },
     "execution_count": 159,
     "metadata": {},
     "output_type": "execute_result"
    }
   ],
   "source": [
    "sector_df['SectorSessionTime_End'].value_counts()"
   ]
  },
  {
   "cell_type": "code",
   "execution_count": 160,
   "id": "cc4f17c1",
   "metadata": {},
   "outputs": [],
   "source": [
    "sector_df['SectorSessionTime_End'] = pd.to_timedelta(sector_df['SectorSessionTime_End'], errors='coerce')"
   ]
  },
  {
   "cell_type": "code",
   "execution_count": 161,
   "id": "3d8234e0",
   "metadata": {},
   "outputs": [
    {
     "data": {
      "text/plain": [
       "np.int64(84)"
      ]
     },
     "execution_count": 161,
     "metadata": {},
     "output_type": "execute_result"
    }
   ],
   "source": [
    "sector_df['SectorSessionTime_End'].isna().sum()"
   ]
  },
  {
   "cell_type": "code",
   "execution_count": 162,
   "id": "06b9c5b6",
   "metadata": {},
   "outputs": [
    {
     "data": {
      "text/plain": [
       "Year                                 int64\n",
       "EventName                           object\n",
       "Team                                object\n",
       "Driver                              object\n",
       "Stint                              float64\n",
       "LapNumber                          float64\n",
       "SectorNumber                         int64\n",
       "Compound                            object\n",
       "TyreLife                           float64\n",
       "SectorTime                          object\n",
       "SectorSessionTime_Start             object\n",
       "SectorSessionTime_End      timedelta64[ns]\n",
       "dtype: object"
      ]
     },
     "execution_count": 162,
     "metadata": {},
     "output_type": "execute_result"
    }
   ],
   "source": [
    "sector_df.dtypes"
   ]
  },
  {
   "cell_type": "code",
   "execution_count": 163,
   "id": "73d4e16b",
   "metadata": {},
   "outputs": [
    {
     "data": {
      "text/plain": [
       "Year                     int64\n",
       "EventName               object\n",
       "Driver                  object\n",
       "LapNumber                int64\n",
       "SessionTime    timedelta64[ns]\n",
       "RPM                    float64\n",
       "Speed                  float64\n",
       "nGear                    int64\n",
       "Throttle               float64\n",
       "Brake                     bool\n",
       "DRS                      int64\n",
       "TrackStatus              int64\n",
       "dtype: object"
      ]
     },
     "execution_count": 163,
     "metadata": {},
     "output_type": "execute_result"
    }
   ],
   "source": [
    "telemetry_df.dtypes"
   ]
  },
  {
   "cell_type": "code",
   "execution_count": 164,
   "id": "b9d36c34",
   "metadata": {},
   "outputs": [
    {
     "data": {
      "text/plain": [
       "Year                       int64\n",
       "EventName                 object\n",
       "SessionTime      timedelta64[ns]\n",
       "AirTemp                  float64\n",
       "Humidity                 float64\n",
       "Pressure                 float64\n",
       "Rainfall                    bool\n",
       "TrackTemp                float64\n",
       "WindDirection              int64\n",
       "WindSpeed                float64\n",
       "dtype: object"
      ]
     },
     "execution_count": 164,
     "metadata": {},
     "output_type": "execute_result"
    }
   ],
   "source": [
    "weather_df.dtypes"
   ]
  },
  {
   "cell_type": "code",
   "execution_count": 206,
   "id": "6f6d109f",
   "metadata": {},
   "outputs": [],
   "source": [
    "# For sector\n",
    "sector_df['SectorTime'] = pd.to_timedelta(sector_df['SectorTime'], errors='coerce').dt.total_seconds()\n",
    "sector_df['SectorSessionTime_Start'] = pd.to_timedelta(sector_df['SectorSessionTime_Start'], errors='coerce')\n",
    "sector_df['SectorSessionTime_End'] = pd.to_timedelta(sector_df['SectorSessionTime_End'], errors='coerce')\n",
    "sector_df['LapNumber'] = sector_df['LapNumber'].astype(int)\n",
    "\n",
    "# For telemetry\n",
    "telemetry_df['SessionTime'] = pd.to_timedelta(telemetry_df['SessionTime'], errors='coerce')\n",
    "telemetry_df['LapNumber'] = telemetry_df['LapNumber'].astype(int)\n",
    "telemetry_df['TrackStatus'] = telemetry_df['TrackStatus'].astype(int)\n",
    "\n",
    "# For weather\n",
    "weather_df['SessionTime'] = pd.to_timedelta(weather_df['SessionTime'], errors='coerce')"
   ]
  },
  {
   "cell_type": "code",
   "execution_count": 209,
   "id": "92d47e2f",
   "metadata": {},
   "outputs": [],
   "source": [
    "test = sector_df.copy()"
   ]
  },
  {
   "cell_type": "code",
   "execution_count": 210,
   "id": "93d60c27",
   "metadata": {},
   "outputs": [
    {
     "data": {
      "text/plain": [
       "0      0 days 00:55:34.907000\n",
       "1      0 days 00:57:13.827000\n",
       "2      0 days 00:58:51.319000\n",
       "3      0 days 01:00:29.402000\n",
       "4      0 days 01:02:07.535000\n",
       "                ...          \n",
       "3379   0 days 02:25:09.156000\n",
       "3380   0 days 02:26:47.720000\n",
       "3381   0 days 02:28:26.145000\n",
       "3382   0 days 02:30:04.867000\n",
       "3383   0 days 02:31:43.475000\n",
       "Name: SectorSessionTime_Start, Length: 3384, dtype: timedelta64[ns]"
      ]
     },
     "execution_count": 210,
     "metadata": {},
     "output_type": "execute_result"
    }
   ],
   "source": [
    "test['SectorSessionTime_Start']"
   ]
  },
  {
   "cell_type": "code",
   "execution_count": 211,
   "id": "5647f3ec",
   "metadata": {},
   "outputs": [
    {
     "data": {
      "text/plain": [
       "0      0 days 00:55:34.907000\n",
       "1      0 days 00:57:13.827000\n",
       "2      0 days 00:58:51.319000\n",
       "3      0 days 01:00:29.402000\n",
       "4      0 days 01:02:07.535000\n",
       "                ...          \n",
       "3379   0 days 02:25:09.156000\n",
       "3380   0 days 02:26:47.720000\n",
       "3381   0 days 02:28:26.145000\n",
       "3382   0 days 02:30:04.867000\n",
       "3383   0 days 02:31:43.475000\n",
       "Name: SectorSessionTime_Start, Length: 3384, dtype: timedelta64[ns]"
      ]
     },
     "execution_count": 211,
     "metadata": {},
     "output_type": "execute_result"
    }
   ],
   "source": [
    "pd.to_timedelta(pd.to_timedelta(test['SectorSessionTime_Start']))"
   ]
  },
  {
   "cell_type": "code",
   "execution_count": 223,
   "id": "e052649a",
   "metadata": {},
   "outputs": [
    {
     "data": {
      "text/plain": [
       "0       3334.907\n",
       "1       3433.827\n",
       "2       3531.319\n",
       "3       3629.402\n",
       "4       3727.535\n",
       "          ...   \n",
       "3379    8709.156\n",
       "3380    8807.720\n",
       "3381    8906.145\n",
       "3382    9004.867\n",
       "3383    9103.475\n",
       "Name: SectorSessionTime_Start, Length: 3384, dtype: float64"
      ]
     },
     "execution_count": 223,
     "metadata": {},
     "output_type": "execute_result"
    }
   ],
   "source": [
    "test['SectorSessionTime_Start'].dt.total_seconds()"
   ]
  },
  {
   "cell_type": "code",
   "execution_count": 215,
   "id": "5bc3c0c7",
   "metadata": {},
   "outputs": [
    {
     "data": {
      "text/html": [
       "<div>\n",
       "<style scoped>\n",
       "    .dataframe tbody tr th:only-of-type {\n",
       "        vertical-align: middle;\n",
       "    }\n",
       "\n",
       "    .dataframe tbody tr th {\n",
       "        vertical-align: top;\n",
       "    }\n",
       "\n",
       "    .dataframe thead th {\n",
       "        text-align: right;\n",
       "    }\n",
       "</style>\n",
       "<table border=\"1\" class=\"dataframe\">\n",
       "  <thead>\n",
       "    <tr style=\"text-align: right;\">\n",
       "      <th></th>\n",
       "      <th>Year</th>\n",
       "      <th>EventName</th>\n",
       "      <th>Team</th>\n",
       "      <th>Driver</th>\n",
       "      <th>Stint</th>\n",
       "      <th>LapNumber</th>\n",
       "      <th>SectorNumber</th>\n",
       "      <th>Compound</th>\n",
       "      <th>TyreLife</th>\n",
       "      <th>SectorTime</th>\n",
       "      <th>SectorSessionTime_Start</th>\n",
       "      <th>SectorSessionTime_End</th>\n",
       "    </tr>\n",
       "  </thead>\n",
       "  <tbody>\n",
       "    <tr>\n",
       "      <th>0</th>\n",
       "      <td>2025</td>\n",
       "      <td>Bahrain Grand Prix</td>\n",
       "      <td>McLaren</td>\n",
       "      <td>PIA</td>\n",
       "      <td>1.0</td>\n",
       "      <td>1</td>\n",
       "      <td>1</td>\n",
       "      <td>SOFT</td>\n",
       "      <td>4.0</td>\n",
       "      <td>NaN</td>\n",
       "      <td>0 days 00:55:34.907000</td>\n",
       "      <td>NaT</td>\n",
       "    </tr>\n",
       "    <tr>\n",
       "      <th>1</th>\n",
       "      <td>2025</td>\n",
       "      <td>Bahrain Grand Prix</td>\n",
       "      <td>McLaren</td>\n",
       "      <td>PIA</td>\n",
       "      <td>1.0</td>\n",
       "      <td>2</td>\n",
       "      <td>1</td>\n",
       "      <td>SOFT</td>\n",
       "      <td>5.0</td>\n",
       "      <td>3.100000e-08</td>\n",
       "      <td>0 days 00:57:13.827000</td>\n",
       "      <td>0 days 00:57:45.021000</td>\n",
       "    </tr>\n",
       "    <tr>\n",
       "      <th>2</th>\n",
       "      <td>2025</td>\n",
       "      <td>Bahrain Grand Prix</td>\n",
       "      <td>McLaren</td>\n",
       "      <td>PIA</td>\n",
       "      <td>1.0</td>\n",
       "      <td>3</td>\n",
       "      <td>1</td>\n",
       "      <td>SOFT</td>\n",
       "      <td>6.0</td>\n",
       "      <td>3.100000e-08</td>\n",
       "      <td>0 days 00:58:51.319000</td>\n",
       "      <td>0 days 00:59:22.680000</td>\n",
       "    </tr>\n",
       "    <tr>\n",
       "      <th>3</th>\n",
       "      <td>2025</td>\n",
       "      <td>Bahrain Grand Prix</td>\n",
       "      <td>McLaren</td>\n",
       "      <td>PIA</td>\n",
       "      <td>1.0</td>\n",
       "      <td>4</td>\n",
       "      <td>1</td>\n",
       "      <td>SOFT</td>\n",
       "      <td>7.0</td>\n",
       "      <td>3.100000e-08</td>\n",
       "      <td>0 days 01:00:29.402000</td>\n",
       "      <td>0 days 01:01:00.783000</td>\n",
       "    </tr>\n",
       "    <tr>\n",
       "      <th>4</th>\n",
       "      <td>2025</td>\n",
       "      <td>Bahrain Grand Prix</td>\n",
       "      <td>McLaren</td>\n",
       "      <td>PIA</td>\n",
       "      <td>1.0</td>\n",
       "      <td>5</td>\n",
       "      <td>1</td>\n",
       "      <td>SOFT</td>\n",
       "      <td>8.0</td>\n",
       "      <td>3.100000e-08</td>\n",
       "      <td>0 days 01:02:07.535000</td>\n",
       "      <td>0 days 01:02:38.895000</td>\n",
       "    </tr>\n",
       "  </tbody>\n",
       "</table>\n",
       "</div>"
      ],
      "text/plain": [
       "   Year           EventName     Team Driver  Stint  LapNumber  SectorNumber  \\\n",
       "0  2025  Bahrain Grand Prix  McLaren    PIA    1.0          1             1   \n",
       "1  2025  Bahrain Grand Prix  McLaren    PIA    1.0          2             1   \n",
       "2  2025  Bahrain Grand Prix  McLaren    PIA    1.0          3             1   \n",
       "3  2025  Bahrain Grand Prix  McLaren    PIA    1.0          4             1   \n",
       "4  2025  Bahrain Grand Prix  McLaren    PIA    1.0          5             1   \n",
       "\n",
       "  Compound  TyreLife    SectorTime SectorSessionTime_Start  \\\n",
       "0     SOFT       4.0           NaN  0 days 00:55:34.907000   \n",
       "1     SOFT       5.0  3.100000e-08  0 days 00:57:13.827000   \n",
       "2     SOFT       6.0  3.100000e-08  0 days 00:58:51.319000   \n",
       "3     SOFT       7.0  3.100000e-08  0 days 01:00:29.402000   \n",
       "4     SOFT       8.0  3.100000e-08  0 days 01:02:07.535000   \n",
       "\n",
       "   SectorSessionTime_End  \n",
       "0                    NaT  \n",
       "1 0 days 00:57:45.021000  \n",
       "2 0 days 00:59:22.680000  \n",
       "3 0 days 01:01:00.783000  \n",
       "4 0 days 01:02:38.895000  "
      ]
     },
     "execution_count": 215,
     "metadata": {},
     "output_type": "execute_result"
    }
   ],
   "source": [
    "sector_df.head()"
   ]
  },
  {
   "cell_type": "code",
   "execution_count": 166,
   "id": "980d58e2",
   "metadata": {},
   "outputs": [
    {
     "data": {
      "text/plain": [
       "Year                                 int64\n",
       "EventName                           object\n",
       "Team                                object\n",
       "Driver                              object\n",
       "Stint                              float64\n",
       "LapNumber                            int64\n",
       "SectorNumber                         int64\n",
       "Compound                            object\n",
       "TyreLife                           float64\n",
       "SectorTime                         float64\n",
       "SectorSessionTime_Start    timedelta64[ns]\n",
       "SectorSessionTime_End      timedelta64[ns]\n",
       "dtype: object"
      ]
     },
     "execution_count": 166,
     "metadata": {},
     "output_type": "execute_result"
    }
   ],
   "source": [
    "sector_df.dtypes"
   ]
  },
  {
   "cell_type": "code",
   "execution_count": 180,
   "id": "a3e9708a",
   "metadata": {},
   "outputs": [
    {
     "data": {
      "text/plain": [
       "Year                     int64\n",
       "EventName               object\n",
       "Driver                  object\n",
       "LapNumber                int64\n",
       "SessionTime    timedelta64[ns]\n",
       "RPM                    float64\n",
       "Speed                  float64\n",
       "nGear                    int64\n",
       "Throttle               float64\n",
       "Brake                     bool\n",
       "DRS                      int64\n",
       "TrackStatus              int64\n",
       "dtype: object"
      ]
     },
     "execution_count": 180,
     "metadata": {},
     "output_type": "execute_result"
    }
   ],
   "source": [
    "telemetry_df.dtypes"
   ]
  },
  {
   "cell_type": "code",
   "execution_count": 168,
   "id": "2aad8abb",
   "metadata": {},
   "outputs": [
    {
     "data": {
      "text/plain": [
       "Year                       int64\n",
       "EventName                 object\n",
       "SessionTime      timedelta64[ns]\n",
       "AirTemp                  float64\n",
       "Humidity                 float64\n",
       "Pressure                 float64\n",
       "Rainfall                    bool\n",
       "TrackTemp                float64\n",
       "WindDirection              int64\n",
       "WindSpeed                float64\n",
       "dtype: object"
      ]
     },
     "execution_count": 168,
     "metadata": {},
     "output_type": "execute_result"
    }
   ],
   "source": [
    "weather_df.dtypes"
   ]
  },
  {
   "cell_type": "code",
   "execution_count": 169,
   "id": "f0f278ca",
   "metadata": {},
   "outputs": [
    {
     "data": {
      "text/plain": [
       "Year                        0\n",
       "EventName                   0\n",
       "Team                        0\n",
       "Driver                      0\n",
       "Stint                       0\n",
       "LapNumber                   0\n",
       "SectorNumber                0\n",
       "Compound                    0\n",
       "TyreLife                    0\n",
       "SectorTime                 80\n",
       "SectorSessionTime_Start    64\n",
       "SectorSessionTime_End      84\n",
       "dtype: int64"
      ]
     },
     "execution_count": 169,
     "metadata": {},
     "output_type": "execute_result"
    }
   ],
   "source": [
    "sector_df.isna().sum()"
   ]
  },
  {
   "cell_type": "code",
   "execution_count": 174,
   "id": "206c3b88",
   "metadata": {},
   "outputs": [
    {
     "data": {
      "text/plain": [
       "Driver  LapNumber\n",
       "RUS     42           3\n",
       "        50           3\n",
       "        43           3\n",
       "        46           3\n",
       "        41           3\n",
       "        40           3\n",
       "        39           3\n",
       "        38           3\n",
       "        47           3\n",
       "        48           3\n",
       "        49           3\n",
       "        51           3\n",
       "        45           3\n",
       "        52           3\n",
       "        53           3\n",
       "        54           3\n",
       "        55           3\n",
       "        56           3\n",
       "        57           3\n",
       "        44           3\n",
       "SAI     1            1\n",
       "STR     1            1\n",
       "TSU     1            1\n",
       "ALB     1            1\n",
       "ALO     1            1\n",
       "RUS     1            1\n",
       "PIA     1            1\n",
       "OCO     1            1\n",
       "NOR     1            1\n",
       "LEC     1            1\n",
       "LAW     1            1\n",
       "HUL     1            1\n",
       "HAM     1            1\n",
       "HAD     1            1\n",
       "GAS     1            1\n",
       "DOO     1            1\n",
       "BOR     1            1\n",
       "BEA     1            1\n",
       "ANT     1            1\n",
       "VER     1            1\n",
       "Name: count, dtype: int64"
      ]
     },
     "execution_count": 174,
     "metadata": {},
     "output_type": "execute_result"
    }
   ],
   "source": [
    "sector_df[sector_df['SectorTime'].isna()][['Driver', 'LapNumber']].value_counts()"
   ]
  },
  {
   "cell_type": "code",
   "execution_count": 175,
   "id": "be375f46",
   "metadata": {},
   "outputs": [
    {
     "data": {
      "text/plain": [
       "Driver  LapNumber\n",
       "RUS     40           2\n",
       "        50           2\n",
       "        39           2\n",
       "        38           2\n",
       "        43           2\n",
       "        44           2\n",
       "        45           2\n",
       "        46           2\n",
       "        47           2\n",
       "        48           2\n",
       "        49           2\n",
       "        51           2\n",
       "        41           2\n",
       "        52           2\n",
       "        53           2\n",
       "        54           2\n",
       "        55           2\n",
       "        56           2\n",
       "        57           2\n",
       "        42           2\n",
       "SAI     1            1\n",
       "STR     1            1\n",
       "TSU     1            1\n",
       "ALB     1            1\n",
       "ALO     1            1\n",
       "RUS     1            1\n",
       "ANT     1            1\n",
       "BEA     1            1\n",
       "BOR     1            1\n",
       "DOO     1            1\n",
       "        28           1\n",
       "GAS     1            1\n",
       "        41           1\n",
       "        48           1\n",
       "HAD     1            1\n",
       "HAM     1            1\n",
       "HUL     1            1\n",
       "LAW     1            1\n",
       "        22           1\n",
       "LEC     1            1\n",
       "NOR     1            1\n",
       "OCO     1            1\n",
       "PIA     1            1\n",
       "VER     1            1\n",
       "Name: count, dtype: int64"
      ]
     },
     "execution_count": 175,
     "metadata": {},
     "output_type": "execute_result"
    }
   ],
   "source": [
    "sector_df[sector_df['SectorSessionTime_Start'].isna()][['Driver', 'LapNumber']].value_counts()"
   ]
  },
  {
   "cell_type": "code",
   "execution_count": 176,
   "id": "de30ce4e",
   "metadata": {},
   "outputs": [
    {
     "data": {
      "text/plain": [
       "Driver  LapNumber\n",
       "RUS     40           3\n",
       "        50           3\n",
       "        39           3\n",
       "        38           3\n",
       "        43           3\n",
       "        44           3\n",
       "        45           3\n",
       "        46           3\n",
       "        47           3\n",
       "        48           3\n",
       "        49           3\n",
       "        51           3\n",
       "        41           3\n",
       "        52           3\n",
       "        53           3\n",
       "        54           3\n",
       "        55           3\n",
       "        56           3\n",
       "        57           3\n",
       "        42           3\n",
       "SAI     1            1\n",
       "STR     1            1\n",
       "TSU     1            1\n",
       "ALB     1            1\n",
       "ALO     1            1\n",
       "RUS     1            1\n",
       "ANT     1            1\n",
       "BEA     1            1\n",
       "BOR     1            1\n",
       "DOO     1            1\n",
       "        28           1\n",
       "GAS     1            1\n",
       "        41           1\n",
       "        48           1\n",
       "HAD     1            1\n",
       "HAM     1            1\n",
       "HUL     1            1\n",
       "LAW     1            1\n",
       "        22           1\n",
       "LEC     1            1\n",
       "NOR     1            1\n",
       "OCO     1            1\n",
       "PIA     1            1\n",
       "VER     1            1\n",
       "Name: count, dtype: int64"
      ]
     },
     "execution_count": 176,
     "metadata": {},
     "output_type": "execute_result"
    }
   ],
   "source": [
    "sector_df[sector_df['SectorSessionTime_End'].isna()][['Driver', 'LapNumber']].value_counts()"
   ]
  },
  {
   "cell_type": "code",
   "execution_count": 193,
   "id": "45cb364d",
   "metadata": {},
   "outputs": [
    {
     "data": {
      "text/plain": [
       "LapNumber\n",
       "1     7979\n",
       "11    7627\n",
       "9     7546\n",
       "2     7523\n",
       "10    7508\n",
       "5     7503\n",
       "12    7441\n",
       "7     7425\n",
       "6     7413\n",
       "8     7399\n",
       "3     7395\n",
       "4     7364\n",
       "Name: count, dtype: int64"
      ]
     },
     "execution_count": 193,
     "metadata": {},
     "output_type": "execute_result"
    }
   ],
   "source": [
    "telemetry_df[telemetry_df['LapNumber']<13]['LapNumber'].value_counts()"
   ]
  },
  {
   "cell_type": "code",
   "execution_count": 195,
   "id": "f27fcbef",
   "metadata": {},
   "outputs": [
    {
     "data": {
      "text/plain": [
       "(82682,)"
      ]
     },
     "execution_count": 195,
     "metadata": {},
     "output_type": "execute_result"
    }
   ],
   "source": [
    "telemetry_df[telemetry_df['LapNumber']<12]['LapNumber'].shape"
   ]
  },
  {
   "cell_type": "code",
   "execution_count": 204,
   "id": "daa244d1",
   "metadata": {},
   "outputs": [
    {
     "data": {
      "text/plain": [
       "Driver  LapNumber\n",
       "ALB     1            405\n",
       "        2            381\n",
       "        3            368\n",
       "        4            369\n",
       "        5            372\n",
       "                    ... \n",
       "VER     53           367\n",
       "        54           354\n",
       "        55           362\n",
       "        56           370\n",
       "        57           359\n",
       "Name: count, Length: 1128, dtype: int64"
      ]
     },
     "execution_count": 204,
     "metadata": {},
     "output_type": "execute_result"
    }
   ],
   "source": [
    "telemetry_df.groupby(['Driver', 'LapNumber'])[['Driver', 'LapNumber']].value_counts()"
   ]
  },
  {
   "cell_type": "code",
   "execution_count": 233,
   "id": "084d5d26",
   "metadata": {},
   "outputs": [
    {
     "data": {
      "text/plain": [
       "0        1\n",
       "57       1\n",
       "94      38\n",
       "95      39\n",
       "96      40\n",
       "        ..\n",
       "2365    53\n",
       "2366    54\n",
       "2367    55\n",
       "2368    56\n",
       "2369    57\n",
       "Name: LapNumber, Length: 108, dtype: int64"
      ]
     },
     "execution_count": 233,
     "metadata": {},
     "output_type": "execute_result"
    }
   ],
   "source": [
    "sector_df[sector_df.isna().any(axis=1)]['LapNumber']"
   ]
  },
  {
   "cell_type": "code",
   "execution_count": null,
   "id": "c9db0a0b",
   "metadata": {},
   "outputs": [],
   "source": [
    "\n"
   ]
  }
 ],
 "metadata": {
  "kernelspec": {
   "display_name": "f1",
   "language": "python",
   "name": "python3"
  },
  "language_info": {
   "codemirror_mode": {
    "name": "ipython",
    "version": 3
   },
   "file_extension": ".py",
   "mimetype": "text/x-python",
   "name": "python",
   "nbconvert_exporter": "python",
   "pygments_lexer": "ipython3",
   "version": "3.11.13"
  }
 },
 "nbformat": 4,
 "nbformat_minor": 5
}
